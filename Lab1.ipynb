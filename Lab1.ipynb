{
  "nbformat": 4,
  "nbformat_minor": 0,
  "metadata": {
    "colab": {
      "name": "Lab1.ipynb",
      "provenance": [],
      "authorship_tag": "ABX9TyOqSrI3rF9t7hY1O0gtab31",
      "include_colab_link": true
    },
    "kernelspec": {
      "name": "python3",
      "display_name": "Python 3"
    }
  },
  "cells": [
    {
      "cell_type": "markdown",
      "metadata": {
        "id": "view-in-github",
        "colab_type": "text"
      },
      "source": [
        "<a href=\"https://colab.research.google.com/github/ors5075/IST210/blob/master/Lab1.ipynb\" target=\"_parent\"><img src=\"https://colab.research.google.com/assets/colab-badge.svg\" alt=\"Open In Colab\"/></a>"
      ]
    },
    {
      "cell_type": "code",
      "metadata": {
        "id": "eCDE2Hg7BxDj",
        "colab_type": "code",
        "colab": {}
      },
      "source": [
        ""
      ],
      "execution_count": 0,
      "outputs": []
    },
    {
      "cell_type": "markdown",
      "metadata": {
        "id": "Argl_2jgEm0V",
        "colab_type": "text"
      },
      "source": [
        "###Olivia Saylor"
      ]
    },
    {
      "cell_type": "markdown",
      "metadata": {
        "id": "Lu2ivpgAEqNo",
        "colab_type": "text"
      },
      "source": [
        "### I am interested in cybersecurity tatics as well as learning any new kinds of technology tips. I really enjoy learning about changes in technology and new problems that occur. For this class, I am excited to learn about how to deal with data. Data is very important in the security process so I will need to know how to deal with it well."
      ]
    },
    {
      "cell_type": "markdown",
      "metadata": {
        "id": "tC3OVwhNE-cU",
        "colab_type": "text"
      },
      "source": [
        "###I hope to one day work on the security side in a healthcare setting. This could involve dealing with HIPPA and medical records or the overall security of a facility."
      ]
    },
    {
      "cell_type": "markdown",
      "metadata": {
        "id": "mHPT9KAUE4U5",
        "colab_type": "text"
      },
      "source": [
        "![alt text](https://raw.githubusercontent.com/ors5075/IST210/master/introduction/FC3E580F-69E7-4D6B-8CCA-97AFF9979445.JPG)"
      ]
    }
  ]
}