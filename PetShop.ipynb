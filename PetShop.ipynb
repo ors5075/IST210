{
  "nbformat": 4,
  "nbformat_minor": 0,
  "metadata": {
    "colab": {
      "name": "PetShop.ipynb",
      "provenance": [],
      "collapsed_sections": [],
      "authorship_tag": "ABX9TyOI3VgO2u/XbFlaM8N2mcEc",
      "include_colab_link": true
    },
    "kernelspec": {
      "name": "python3",
      "display_name": "Python 3"
    }
  },
  "cells": [
    {
      "cell_type": "markdown",
      "metadata": {
        "id": "view-in-github",
        "colab_type": "text"
      },
      "source": [
        "<a href=\"https://colab.research.google.com/github/ors5075/IST210/blob/master/PetShop.ipynb\" target=\"_parent\"><img src=\"https://colab.research.google.com/assets/colab-badge.svg\" alt=\"Open In Colab\"/></a>"
      ]
    },
    {
      "cell_type": "code",
      "metadata": {
        "id": "mVux0AHzS19p",
        "colab_type": "code",
        "colab": {}
      },
      "source": [
        ""
      ],
      "execution_count": 0,
      "outputs": []
    },
    {
      "cell_type": "markdown",
      "metadata": {
        "id": "TTF2TI-JUvSn",
        "colab_type": "text"
      },
      "source": [
        "In this project, I showed the relationship between six entities. These entities are enclosures, pet, food, pet transactions, customer, and food transactions. Each are put into a table and given a few attributes. I then connected the attributes to show the specific relationships that they have with each other. To start, I connected Pet ID in Pet (primary key) to Pet ID in Enclosures (foreign key). The relationship between thse two entities is one to one on both sides. There is one enclosure to one pet and one pet to one enclosure. Next I connected Brand of Food in Pet (foreign key) to Brand of Food in Food (primary key). The relationship between these two entities are both one to many because pets eat multiple amounts of food and food is eaten by multiple pets. Next, I connected Loyalty ID in Customer (primary key) to Loyalty ID in Food Transactions (foreign key). The relationship between these two entities is one to one because there is one customer per food transaction, and one to many because there can be multiple transactions per customer. The same kind of relationship is seen in the pet transactions to customer relationship, where Loyalty ID in Customer (primary key) is connected to Loyalty Key in Pet Transaction (foreign key). Next, I connected Brand of Food in Food (primary key) to Brand of Food in Food Transactions (foreign key). The relationship between these entities is one to one on both sides because one brand of food matches to one food transaction and vice versa. Finally, I matched Pet Name in Cage Number to Pet Name in Pet Transactions. This just shows a general commonality between the two tables and an attribute that they share. The relationship between these two entities is one to one on both sides because one pet matches to one transaction and vice versa. Overall, I think my entity relationship diagram shows a good example of the relationships between these different entities and attributes."
      ]
    },
    {
      "cell_type": "markdown",
      "metadata": {
        "id": "D-KWawngERnc",
        "colab_type": "text"
      },
      "source": [
        "![alt text](https://raw.githubusercontent.com/ors5075/IST210/master/introduction/Pet%20Shop.png)"
      ]
    }
  ]
}