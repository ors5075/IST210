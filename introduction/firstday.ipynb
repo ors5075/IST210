{
  "nbformat": 4,
  "nbformat_minor": 0,
  "metadata": {
    "colab": {
      "name": "firstday.ipynb",
      "provenance": [],
      "authorship_tag": "ABX9TyNvtWUg2/+fwW0QYyR31xTF",
      "include_colab_link": true
    },
    "kernelspec": {
      "name": "python3",
      "display_name": "Python 3"
    }
  },
  "cells": [
    {
      "cell_type": "markdown",
      "metadata": {
        "id": "view-in-github",
        "colab_type": "text"
      },
      "source": [
        "<a href=\"https://colab.research.google.com/github/ors5075/IST210/blob/master/introduction/firstday.ipynb\" target=\"_parent\"><img src=\"https://colab.research.google.com/assets/colab-badge.svg\" alt=\"Open In Colab\"/></a>"
      ]
    },
    {
      "cell_type": "code",
      "metadata": {
        "id": "uOFOwW4OzZWE",
        "colab_type": "code",
        "colab": {
          "base_uri": "https://localhost:8080/",
          "height": 34
        },
        "outputId": "e847dc8e-b013-4708-d848-35926a6b1a0f"
      },
      "source": [
        "2+2"
      ],
      "execution_count": 4,
      "outputs": [
        {
          "output_type": "execute_result",
          "data": {
            "text/plain": [
              "4"
            ]
          },
          "metadata": {
            "tags": []
          },
          "execution_count": 4
        }
      ]
    },
    {
      "cell_type": "code",
      "metadata": {
        "id": "BeBdFtFszvQL",
        "colab_type": "code",
        "colab": {
          "base_uri": "https://localhost:8080/",
          "height": 34
        },
        "outputId": "48a101fb-3aac-4803-deb1-ddc2b6e5fad7"
      },
      "source": [
        "2+3"
      ],
      "execution_count": 5,
      "outputs": [
        {
          "output_type": "execute_result",
          "data": {
            "text/plain": [
              "5"
            ]
          },
          "metadata": {
            "tags": []
          },
          "execution_count": 5
        }
      ]
    },
    {
      "cell_type": "markdown",
      "metadata": {
        "id": "m6JOr87zz9U1",
        "colab_type": "text"
      },
      "source": [
        "this is my first notebook"
      ]
    },
    {
      "cell_type": "markdown",
      "metadata": {
        "id": "8Kdv6zog0TOn",
        "colab_type": "text"
      },
      "source": [
        "this is **bold**"
      ]
    },
    {
      "cell_type": "markdown",
      "metadata": {
        "id": "wYJ36QxU0mdj",
        "colab_type": "text"
      },
      "source": [
        "## this is a header"
      ]
    },
    {
      "cell_type": "markdown",
      "metadata": {
        "id": "DmMcCgN54Jhy",
        "colab_type": "text"
      },
      "source": [
        "![alt text](https://raw.githubusercontent.com/ors5075/IST210/master/introduction/mountain.jpeg)"
      ]
    }
  ]
}