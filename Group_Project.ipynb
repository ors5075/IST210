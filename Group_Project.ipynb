{
  "nbformat": 4,
  "nbformat_minor": 0,
  "metadata": {
    "colab": {
      "name": "Group Project.ipynb",
      "provenance": [],
      "collapsed_sections": [],
      "authorship_tag": "ABX9TyNM9eUTiptIy5lB11E5HbS/",
      "include_colab_link": true
    },
    "kernelspec": {
      "name": "python3",
      "display_name": "Python 3"
    }
  },
  "cells": [
    {
      "cell_type": "markdown",
      "metadata": {
        "id": "view-in-github",
        "colab_type": "text"
      },
      "source": [
        "<a href=\"https://colab.research.google.com/github/ors5075/IST210/blob/master/Group_Project.ipynb\" target=\"_parent\"><img src=\"https://colab.research.google.com/assets/colab-badge.svg\" alt=\"Open In Colab\"/></a>"
      ]
    },
    {
      "cell_type": "code",
      "metadata": {
        "id": "MOpcyUWaf59H",
        "colab_type": "code",
        "colab": {}
      },
      "source": [
        ""
      ],
      "execution_count": 0,
      "outputs": []
    },
    {
      "cell_type": "markdown",
      "metadata": {
        "id": "YvOZSfGAgWFq",
        "colab_type": "text"
      },
      "source": [
        "We picked this project because we thought that it was a good fit for what we needed to do with the data. We chose Spotify as our main focus, because it is an application that clearly needs to use  lot of data analysis techniques to make it successful. We started this project by choosing a few entities like user, song views, artists, etc. We then created attributes, including primary keys or foreign keys, for each entity. We put all of this information into a table and related each table through connectivity and cardinality. This led us to our final ER diagram that we can now look at to see the relationship between each entity. "
      ]
    },
    {
      "cell_type": "markdown",
      "metadata": {
        "id": "NVMimu7miC6Y",
        "colab_type": "text"
      },
      "source": [
        "ER DIAGRAM:\n",
        "\n",
        "![alt text](https://raw.githubusercontent.com/ors5075/IST210/master/Group%20Project.png)"
      ]
    },
    {
      "cell_type": "markdown",
      "metadata": {
        "id": "UiFbdAptiPTZ",
        "colab_type": "text"
      },
      "source": [
        "Nowadays, people use digital music streaming services to listen to songs and make a playlist of their favorite ones. One of the biggest and most successful companies is Spotify. This application clearly has been using a lot of data analysis techniques to make it such a successful one. However, there are some parts where this function hasn’t been utilized to the maximum, like helping the artists choose the best place to tackle their marketing or in other words, promote themselves. We often see cases where listeners and fans become very disappointed because the artist did not visit their country on tours. Therefore, the goal of the idea presented here is to know the region where an artist is most popular. This idea uniquely functions as a tool to help artists map their tours more precisely and thus, satisfying a lot more fans. The entities that will be presented in this small database are songs, users, country, artists, and song views. The songs entity contains two primary keys, songID and artistID. The user entity contains different attributes about the user. The country entity contains the country’s ID and the country name, region, and views. The artist’s entity contains attributes about the artists, for example, what country the artist is from. The song views entity is an end-user entity, so it is similar to a “transactions” entity, but in this case, it refers to songs. Every time that a song is being listened to, it will be added to the table. This entity contains two foreign keys as well, song ID and user ID, which show what song is being listened to and who is listening to it. Overall, all of these entities put together in our entity relationship diagram help us to show the association of artist and country, so that we can determine which region an artist is most popular.\n",
        "\n"
      ]
    },
    {
      "cell_type": "markdown",
      "metadata": {
        "id": "qsPDOtB_iWGj",
        "colab_type": "text"
      },
      "source": [
        "To create a database for this information, it is best to start by looking at our ER diagram and determining which entities relate to eachother. From doing this, we can create a database that will make sense and correlate with eachother based on whatever information we are looking for. In this database, we will create a table for our song views category, that will provide data about viewID, songID, userID, viewDate, and region. Randomized data will be inserted into these tables, about five to ten entries for each. We will be able to find out information based on this table and inserted data such as how many times was this song listened to in this region, how many users listened to this song, etc. This technique would be very helpful in a company like Spotify because it allows them to organize and utilize their data in a way that is beneficial to them."
      ]
    },
    {
      "cell_type": "code",
      "metadata": {
        "id": "2gkjuocXnvWM",
        "colab_type": "code",
        "outputId": "4f603d8e-1a7c-49cb-83ae-ca4a8b57d9aa",
        "colab": {
          "base_uri": "https://localhost:8080/",
          "height": 68
        }
      },
      "source": [
        "%load_ext sql\n",
        "%sql sqlite:///SQLon1Table.db"
      ],
      "execution_count": 0,
      "outputs": [
        {
          "output_type": "stream",
          "text": [
            "The sql extension is already loaded. To reload it, use:\n",
            "  %reload_ext sql\n"
          ],
          "name": "stdout"
        },
        {
          "output_type": "execute_result",
          "data": {
            "text/plain": [
              "'Connected: @SQLon1Table.db'"
            ]
          },
          "metadata": {
            "tags": []
          },
          "execution_count": 6
        }
      ]
    },
    {
      "cell_type": "code",
      "metadata": {
        "id": "ZoOJLgK4nCRw",
        "colab_type": "code",
        "outputId": "404dba9b-cdb5-423e-aca8-53de9216aa25",
        "colab": {
          "base_uri": "https://localhost:8080/",
          "height": 85
        }
      },
      "source": [
        "%%sql\n",
        "DROP TABLE IF EXISTS SongViews;\n",
        "CREATE TABLE SongViews(viewID text primary key, songID text, userID integer, viewDate text, region text);"
      ],
      "execution_count": 0,
      "outputs": [
        {
          "output_type": "stream",
          "text": [
            " * sqlite:///SQLon1Table.db\n",
            "Done.\n",
            "Done.\n"
          ],
          "name": "stdout"
        },
        {
          "output_type": "execute_result",
          "data": {
            "text/plain": [
              "[]"
            ]
          },
          "metadata": {
            "tags": []
          },
          "execution_count": 7
        }
      ]
    },
    {
      "cell_type": "code",
      "metadata": {
        "id": "GUu03Gl2nyJc",
        "colab_type": "code",
        "outputId": "14cccda9-0c83-4b19-8b2f-21366b56effc",
        "colab": {
          "base_uri": "https://localhost:8080/",
          "height": 221
        }
      },
      "source": [
        "%%sql\n",
        "INSERT INTO SongViews VALUES('view 1','song 1',123, '2020-04-01', 'USA');\n",
        "INSERT INTO SongViews VALUES('view 2','song 1',456, '2020-04-06', 'Canada');\n",
        "INSERT INTO SongViews VALUES('view 3','song 3',123, '2020-04-02', 'USA');\n",
        "INSERT INTO SongViews VALUES('view 4','song 2',789, '2020-04-01', 'USA');\n",
        "INSERT INTO SongViews VALUES('view 5','song 2',456, '2020-04-01', 'Canada');\n",
        "INSERT INTO SongViews VALUES('view 6','song 4',123, '2020-04-02', 'USA');\n",
        "INSERT INTO SongViews VALUES('view 7','song 4',789, '2020-04-01', 'USA');\n",
        "INSERT INTO SongViews VALUES('view 8','song 5',123, '2020-04-03', 'USA');\n",
        "INSERT INTO SongViews VALUES('view 9','song 1',789, '2020-04-06', 'USA');\n",
        "INSERT INTO SongViews VALUES('view 10','song 3',456, '2020-04-01', 'Canada');\n",
        "\n",
        "\n",
        "\n",
        "\n",
        "\n",
        "\n",
        "\n",
        "\n"
      ],
      "execution_count": 0,
      "outputs": [
        {
          "output_type": "stream",
          "text": [
            " * sqlite:///SQLon1Table.db\n",
            "1 rows affected.\n",
            "1 rows affected.\n",
            "1 rows affected.\n",
            "1 rows affected.\n",
            "1 rows affected.\n",
            "1 rows affected.\n",
            "1 rows affected.\n",
            "1 rows affected.\n",
            "1 rows affected.\n",
            "1 rows affected.\n"
          ],
          "name": "stdout"
        },
        {
          "output_type": "execute_result",
          "data": {
            "text/plain": [
              "[]"
            ]
          },
          "metadata": {
            "tags": []
          },
          "execution_count": 8
        }
      ]
    },
    {
      "cell_type": "markdown",
      "metadata": {
        "id": "gJ8eGx9bj-C9",
        "colab_type": "text"
      },
      "source": [
        "SCENARIO: A new user downloads Spotify for the first time. They like all types of music, but want to listen to songs that are most popular in their region at the time. They search for certain songs and artists but do not know if what they are listening to really is the best option for them. Spotify will be able to use data collected from other users in the region to generate an idea of which songs and artists are most listened to in that region. They can then provide a playlist to the user that contains the most listened to songs and artists that are in their region. The user can easily find this through a shared playlist on the Spotify application and will not have to worry about searching for songs and artists. The user is also able to look at the data to see how the playlist was generated."
      ]
    },
    {
      "cell_type": "markdown",
      "metadata": {
        "id": "PhfLxRA9or9C",
        "colab_type": "text"
      },
      "source": [
        "How many different songs were listened to?\n"
      ]
    },
    {
      "cell_type": "code",
      "metadata": {
        "id": "wt2i_3-NpgOi",
        "colab_type": "code",
        "outputId": "b325463e-dd52-4fe9-cf20-0082f59ea33e",
        "colab": {
          "base_uri": "https://localhost:8080/",
          "height": 95
        }
      },
      "source": [
        "%%sql\n",
        "select count (distinct(songID)) from SongViews;"
      ],
      "execution_count": 0,
      "outputs": [
        {
          "output_type": "stream",
          "text": [
            " * sqlite:///SQLon1Table.db\n",
            "Done.\n"
          ],
          "name": "stdout"
        },
        {
          "output_type": "execute_result",
          "data": {
            "text/html": [
              "<table>\n",
              "    <tr>\n",
              "        <th>count (distinct(songID))</th>\n",
              "    </tr>\n",
              "    <tr>\n",
              "        <td>5</td>\n",
              "    </tr>\n",
              "</table>"
            ],
            "text/plain": [
              "[(5,)]"
            ]
          },
          "metadata": {
            "tags": []
          },
          "execution_count": 13
        }
      ]
    },
    {
      "cell_type": "markdown",
      "metadata": {
        "id": "NeK63i5NowWQ",
        "colab_type": "text"
      },
      "source": [
        "What is the song and user for all Spotify activity on April 1st?"
      ]
    },
    {
      "cell_type": "code",
      "metadata": {
        "id": "u8CWBvvApg4N",
        "colab_type": "code",
        "outputId": "e57a1998-b960-4257-f270-5ab7d8bee95a",
        "colab": {
          "base_uri": "https://localhost:8080/",
          "height": 179
        }
      },
      "source": [
        "%%sql\n",
        "select songID, userID from SongViews where viewDate = '2020-04-01';"
      ],
      "execution_count": 0,
      "outputs": [
        {
          "output_type": "stream",
          "text": [
            " * sqlite:///SQLon1Table.db\n",
            "Done.\n"
          ],
          "name": "stdout"
        },
        {
          "output_type": "execute_result",
          "data": {
            "text/html": [
              "<table>\n",
              "    <tr>\n",
              "        <th>songID</th>\n",
              "        <th>userID</th>\n",
              "    </tr>\n",
              "    <tr>\n",
              "        <td>song 1</td>\n",
              "        <td>123</td>\n",
              "    </tr>\n",
              "    <tr>\n",
              "        <td>song 2</td>\n",
              "        <td>789</td>\n",
              "    </tr>\n",
              "    <tr>\n",
              "        <td>song 2</td>\n",
              "        <td>456</td>\n",
              "    </tr>\n",
              "    <tr>\n",
              "        <td>song 4</td>\n",
              "        <td>789</td>\n",
              "    </tr>\n",
              "    <tr>\n",
              "        <td>song 3</td>\n",
              "        <td>456</td>\n",
              "    </tr>\n",
              "</table>"
            ],
            "text/plain": [
              "[('song 1', 123),\n",
              " ('song 2', 789),\n",
              " ('song 2', 456),\n",
              " ('song 4', 789),\n",
              " ('song 3', 456)]"
            ]
          },
          "metadata": {
            "tags": []
          },
          "execution_count": 16
        }
      ]
    },
    {
      "cell_type": "markdown",
      "metadata": {
        "id": "AV2PL9mLpJYD",
        "colab_type": "text"
      },
      "source": [
        "What is all of the information for all Spotify activity in the United States?"
      ]
    },
    {
      "cell_type": "code",
      "metadata": {
        "id": "m8_j7QkfphbN",
        "colab_type": "code",
        "outputId": "a509cbfb-9de9-4574-fd4a-afad04b73121",
        "colab": {
          "base_uri": "https://localhost:8080/",
          "height": 221
        }
      },
      "source": [
        "%%sql\n",
        "select * from SongViews where region = 'USA';"
      ],
      "execution_count": 0,
      "outputs": [
        {
          "output_type": "stream",
          "text": [
            " * sqlite:///SQLon1Table.db\n",
            "Done.\n"
          ],
          "name": "stdout"
        },
        {
          "output_type": "execute_result",
          "data": {
            "text/html": [
              "<table>\n",
              "    <tr>\n",
              "        <th>viewID</th>\n",
              "        <th>songID</th>\n",
              "        <th>userID</th>\n",
              "        <th>viewDate</th>\n",
              "        <th>region</th>\n",
              "    </tr>\n",
              "    <tr>\n",
              "        <td>view 1</td>\n",
              "        <td>song 1</td>\n",
              "        <td>123</td>\n",
              "        <td>2020-04-01</td>\n",
              "        <td>USA</td>\n",
              "    </tr>\n",
              "    <tr>\n",
              "        <td>view 3</td>\n",
              "        <td>song 3</td>\n",
              "        <td>123</td>\n",
              "        <td>2020-04-02</td>\n",
              "        <td>USA</td>\n",
              "    </tr>\n",
              "    <tr>\n",
              "        <td>view 4</td>\n",
              "        <td>song 2</td>\n",
              "        <td>789</td>\n",
              "        <td>2020-04-01</td>\n",
              "        <td>USA</td>\n",
              "    </tr>\n",
              "    <tr>\n",
              "        <td>view 6</td>\n",
              "        <td>song 4</td>\n",
              "        <td>123</td>\n",
              "        <td>2020-04-02</td>\n",
              "        <td>USA</td>\n",
              "    </tr>\n",
              "    <tr>\n",
              "        <td>view 7</td>\n",
              "        <td>song 4</td>\n",
              "        <td>789</td>\n",
              "        <td>2020-04-01</td>\n",
              "        <td>USA</td>\n",
              "    </tr>\n",
              "    <tr>\n",
              "        <td>view 8</td>\n",
              "        <td>song 5</td>\n",
              "        <td>123</td>\n",
              "        <td>2020-04-03</td>\n",
              "        <td>USA</td>\n",
              "    </tr>\n",
              "    <tr>\n",
              "        <td>view 9</td>\n",
              "        <td>song 1</td>\n",
              "        <td>789</td>\n",
              "        <td>2020-04-06</td>\n",
              "        <td>USA</td>\n",
              "    </tr>\n",
              "</table>"
            ],
            "text/plain": [
              "[('view 1', 'song 1', 123, '2020-04-01', 'USA'),\n",
              " ('view 3', 'song 3', 123, '2020-04-02', 'USA'),\n",
              " ('view 4', 'song 2', 789, '2020-04-01', 'USA'),\n",
              " ('view 6', 'song 4', 123, '2020-04-02', 'USA'),\n",
              " ('view 7', 'song 4', 789, '2020-04-01', 'USA'),\n",
              " ('view 8', 'song 5', 123, '2020-04-03', 'USA'),\n",
              " ('view 9', 'song 1', 789, '2020-04-06', 'USA')]"
            ]
          },
          "metadata": {
            "tags": []
          },
          "execution_count": 20
        }
      ]
    }
  ]
}